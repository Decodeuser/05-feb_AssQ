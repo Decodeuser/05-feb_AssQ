{
 "cells": [
  {
   "cell_type": "markdown",
   "id": "552aa313-21d2-4b7e-ac5d-13f7c6a0d5c3",
   "metadata": {},
   "source": [
    "Explain Class and Object with respect to Object-Oriented Programming. Give a suitable example."
   ]
  },
  {
   "cell_type": "code",
   "execution_count": 2,
   "id": "cfcfafeb-243d-4440-add7-7a30b877256c",
   "metadata": {},
   "outputs": [
    {
     "name": "stdout",
     "output_type": "stream",
     "text": [
      "Name: Mountain Bike, Gears: 11 \n"
     ]
    }
   ],
   "source": [
    "#Python Objects\n",
    "#An object is called an instance of a class. For example, suppose Bike is a class then we can create objects like bike1, bike2, etc from the class.\n",
    "\n",
    "#Here's the syntax to create an object.\n",
    "\n",
    "# define a class\n",
    "class Bike:\n",
    "    name = \"\"\n",
    "    gear = 0\n",
    "\n",
    "# create object of class\n",
    "bike1 = Bike()\n",
    "\n",
    "# access attributes and assign new values\n",
    "bike1.gear = 11\n",
    "bike1.name = \"Mountain Bike\"\n",
    "\n",
    "print(f\"Name: {bike1.name}, Gears: {bike1.gear} \")"
   ]
  },
  {
   "cell_type": "markdown",
   "id": "12c6ec59-d954-42bf-8314-afac787c3a1d",
   "metadata": {},
   "source": [
    "Q2. Name the four pillars of OOPs.\n",
    "\n",
    "Answer: These principles are called the four pillars of object-oriented programming (OOP). These four pillars are Inheritance, Polymorphism, Encapsulation and Abstraction"
   ]
  },
  {
   "cell_type": "markdown",
   "id": "0b9ad5ab-553e-408c-a0a4-7037a5959144",
   "metadata": {},
   "source": [
    "Q3. Explain why the __init__() function is used. Give a suitable example.\n",
    "\n",
    "Answer: The init() function is typically used to initialize a specific state of the application."
   ]
  },
  {
   "cell_type": "code",
   "execution_count": 1,
   "id": "6f37456a-165a-410f-b2ac-8bdf713ae744",
   "metadata": {},
   "outputs": [
    {
     "name": "stdout",
     "output_type": "stream",
     "text": [
      "I ran first\n",
      "I ran second\n",
      "Name: Audi R8\n"
     ]
    }
   ],
   "source": [
    "class Car:\n",
    "    def __init__(self, name):\n",
    "        self.name = name\n",
    "        print(\"I ran first\")\n",
    " \n",
    "    def product(self):\n",
    "        print(\"I ran second\")\n",
    "        return (\"Name: \" + self.name)\n",
    " \n",
    " \n",
    "C = Car('Audi R8')\n",
    "print(C.product())"
   ]
  },
  {
   "cell_type": "markdown",
   "id": "baddba25-f225-4c50-a3e5-84ec28d46ae4",
   "metadata": {},
   "source": [
    "Q4. Why self is used in OOPs?\n",
    "\n",
    "Answer: The self variable is used to represent the instance of the class which is often used in object-oriented programming. It works as a reference to the object. Python uses the self parameter to refer to instance attributes and methods of the class.\n",
    "\n"
   ]
  },
  {
   "cell_type": "markdown",
   "id": "fc9f6373-c8c0-40a4-bbc6-fcd711fa8712",
   "metadata": {},
   "source": [
    "Q5. What is inheritance? Give an example for each type of inheritance.\n",
    "\n",
    "Answer: Inheritance is a process of obtaining properties and characteristics(variables and methods) of another class. In this hierarchical order, the class which inherits another class is called subclass or child class, and the other class is the parent class.\n",
    "\n",
    "Example: As below"
   ]
  },
  {
   "cell_type": "code",
   "execution_count": 1,
   "id": "7f716b08-9ee2-42dc-9ed8-17d89ac6767a",
   "metadata": {},
   "outputs": [
    {
     "name": "stdout",
     "output_type": "stream",
     "text": [
      "This function is in parent class.\n",
      "This function is in child class.\n"
     ]
    }
   ],
   "source": [
    "# Python program to demonstrate\n",
    "# single inheritance\n",
    "\n",
    "# Base class\n",
    "class Parent:\n",
    "\tdef func1(self):\n",
    "\t\tprint(\"This function is in parent class.\")\n",
    "\n",
    "# Derived class\n",
    "\n",
    "\n",
    "class Child(Parent):\n",
    "\tdef func2(self):\n",
    "\t\tprint(\"This function is in child class.\")\n",
    "\n",
    "\n",
    "# Driver's code\n",
    "object = Child()\n",
    "object.func1()\n",
    "object.func2()"
   ]
  },
  {
   "cell_type": "code",
   "execution_count": null,
   "id": "4a3688e1-de44-4970-9caf-541e20054e94",
   "metadata": {},
   "outputs": [],
   "source": []
  }
 ],
 "metadata": {
  "kernelspec": {
   "display_name": "Python 3 (ipykernel)",
   "language": "python",
   "name": "python3"
  },
  "language_info": {
   "codemirror_mode": {
    "name": "ipython",
    "version": 3
   },
   "file_extension": ".py",
   "mimetype": "text/x-python",
   "name": "python",
   "nbconvert_exporter": "python",
   "pygments_lexer": "ipython3",
   "version": "3.10.8"
  }
 },
 "nbformat": 4,
 "nbformat_minor": 5
}
